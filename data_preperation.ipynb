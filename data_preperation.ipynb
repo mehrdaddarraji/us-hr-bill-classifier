{
 "cells": [
  {
   "cell_type": "markdown",
   "metadata": {},
   "source": [
    "# Data Cleanup"
   ]
  },
  {
   "cell_type": "code",
   "execution_count": 2,
   "metadata": {},
   "outputs": [],
   "source": [
    "import pandas as pd"
   ]
  },
  {
   "cell_type": "code",
   "execution_count": 24,
   "metadata": {},
   "outputs": [
    {
     "data": {
      "text/plain": [
       "False"
      ]
     },
     "execution_count": 24,
     "metadata": {},
     "output_type": "execute_result"
    }
   ],
   "source": [
    "columns = ['congress', 'bill', 'sponsor_party', 'sponsor_state', 'cosponsors', 'r_cosponsors', 'd_cosponsors', 'i_cosponsors', 'subject', 'withdrawn_cosponsors', 'committees', 'subcommittees', 'actions', 'summary_words', 'label']\n",
    "dataset = pd.read_csv('hr-bill-data.csv', header=None, quotechar='|')\n",
    "dataset = dataset.drop(columns=[15, 16])\n",
    "dataset.columns = columns\n",
    "\n",
    "\n",
    "dataset.summary_words.isnull().values.any()"
   ]
  },
  {
   "cell_type": "code",
   "execution_count": null,
   "metadata": {},
   "outputs": [],
   "source": []
  }
 ],
 "metadata": {
  "kernelspec": {
   "display_name": "Python 3",
   "language": "python",
   "name": "python3"
  },
  "language_info": {
   "codemirror_mode": {
    "name": "ipython",
    "version": 3
   },
   "file_extension": ".py",
   "mimetype": "text/x-python",
   "name": "python",
   "nbconvert_exporter": "python",
   "pygments_lexer": "ipython3",
   "version": "3.7.3"
  }
 },
 "nbformat": 4,
 "nbformat_minor": 2
}
